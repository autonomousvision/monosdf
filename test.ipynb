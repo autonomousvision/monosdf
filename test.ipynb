{
 "cells": [
  {
   "cell_type": "code",
   "execution_count": 7,
   "metadata": {},
   "outputs": [],
   "source": [
    "from pathlib import Path\n",
    "import os\n",
    "import sys\n",
    "import json\n",
    "import torch\n",
    "import numpy as np"
   ]
  },
  {
   "cell_type": "code",
   "execution_count": 2,
   "id": "e2979114",
   "metadata": {},
   "outputs": [],
   "source": [
    "base_dir = Path('/mnt/data/eth3d_processed_monosdf')"
   ]
  },
  {
   "cell_type": "code",
   "execution_count": 25,
   "id": "0472f10b",
   "metadata": {},
   "outputs": [],
   "source": [
    "for scene in sorted(base_dir.iterdir()):\n",
    "    transform_path = scene / 'transforms.json'\n",
    "    with open(transform_path, 'r') as f:\n",
    "        transforms = json.load(f)\n",
    "    frames = transforms['frames']\n",
    "\n",
    "    if all([(key in transforms) for key in ['fl_x', 'fl_y', 'cx', 'cy']]):\n",
    "        K = np.eye(4)\n",
    "        K[0, 0] = transforms['fl_x']\n",
    "        K[1, 1] = transforms['fl_y']\n",
    "        K[0, 2] = transforms['cx']\n",
    "        K[1, 2] = transforms['cy']\n",
    "        intrinsic = K\n",
    "        focal_length = K[0, 0]\n",
    "\n",
    "    file_num = len(frames)\n",
    "    cameras = {}\n",
    "    for index in range(file_num):\n",
    "        frame = frames[index]\n",
    "        pose = np.array(frame['transform_matrix']).reshape(4, 4)\n",
    "        pose[:, 1:3] *= -1\n",
    "        cameras[\"scale_mat_%d\"%(index)] = np.eye(4)\n",
    "        cameras[\"world_mat_%d\"%(index)] = K @ np.linalg.inv(pose)\n",
    "\n",
    "    out_path = str(scene)\n",
    "    np.savez(os.path.join(out_path, \"cameras.npz\"), **cameras)\n"
   ]
  },
  {
   "cell_type": "code",
   "execution_count": 24,
   "id": "07431783",
   "metadata": {},
   "outputs": [
    {
     "data": {
      "text/plain": [
       "array([[529.7778922 ,   0.        , 481.61879324,   0.        ],\n",
       "       [  0.        , 529.20144683, 318.17583796,   0.        ],\n",
       "       [  0.        ,   0.        ,   1.        ,   0.        ],\n",
       "       [  0.        ,   0.        ,   0.        ,   1.        ]])"
      ]
     },
     "execution_count": 24,
     "metadata": {},
     "output_type": "execute_result"
    }
   ],
   "source": [
    "K"
   ]
  },
  {
   "cell_type": "code",
   "execution_count": 18,
   "id": "04857ff5",
   "metadata": {},
   "outputs": [
    {
     "ename": "ValueError",
     "evalue": "Type must be a sub-type of ndarray type",
     "output_type": "error",
     "traceback": [
      "\u001b[0;31m---------------------------------------------------------------------------\u001b[0m",
      "\u001b[0;31mValueError\u001b[0m                                Traceback (most recent call last)",
      "Cell \u001b[0;32mIn[18], line 1\u001b[0m\n\u001b[0;32m----> 1\u001b[0m np\u001b[39m.\u001b[39;49marray(frame[\u001b[39m'\u001b[39;49m\u001b[39mtransform_matrix\u001b[39;49m\u001b[39m'\u001b[39;49m])\u001b[39m.\u001b[39;49mview(\u001b[39m4\u001b[39;49m,\u001b[39m4\u001b[39;49m)\n",
      "\u001b[0;31mValueError\u001b[0m: Type must be a sub-type of ndarray type"
     ]
    }
   ],
   "source": [
    "np.array(frame['transform_matrix']).view(4,4)"
   ]
  }
 ],
 "metadata": {
  "kernelspec": {
   "display_name": "nerf",
   "language": "python",
   "name": "python3"
  },
  "language_info": {
   "codemirror_mode": {
    "name": "ipython",
    "version": 3
   },
   "file_extension": ".py",
   "mimetype": "text/x-python",
   "name": "python",
   "nbconvert_exporter": "python",
   "pygments_lexer": "ipython3",
   "version": "3.9.15"
  },
  "vscode": {
   "interpreter": {
    "hash": "0916da3028adc7a72a0f5e4f0474f5f2ef6d45f04f12b9f31c2c0dd6ba8f296f"
   }
  }
 },
 "nbformat": 4,
 "nbformat_minor": 5
}
